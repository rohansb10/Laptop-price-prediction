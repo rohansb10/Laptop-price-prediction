{
  "nbformat": 4,
  "nbformat_minor": 0,
  "metadata": {
    "colab": {
      "private_outputs": true,
      "provenance": [],
      "authorship_tag": "ABX9TyPu0/zob1bWE5UWnmr1C5Uv",
      "include_colab_link": true
    },
    "kernelspec": {
      "name": "python3",
      "display_name": "Python 3"
    },
    "language_info": {
      "name": "python"
    }
  },
  "cells": [
    {
      "cell_type": "markdown",
      "metadata": {
        "id": "view-in-github",
        "colab_type": "text"
      },
      "source": [
        "<a href=\"https://colab.research.google.com/github/rohansb10/Laptop-price-prediction/blob/main/pyspark.ipynb\" target=\"_parent\"><img src=\"https://colab.research.google.com/assets/colab-badge.svg\" alt=\"Open In Colab\"/></a>"
      ]
    },
    {
      "cell_type": "code",
      "source": [
        "!pip install pyspark"
      ],
      "metadata": {
        "id": "PxcX-8ToibyI"
      },
      "execution_count": null,
      "outputs": []
    },
    {
      "cell_type": "code",
      "source": [
        "import pandas as pd"
      ],
      "metadata": {
        "id": "_0MZD8suP41b"
      },
      "execution_count": null,
      "outputs": []
    },
    {
      "cell_type": "code",
      "source": [
        "from pyspark.sql import SparkSession\n",
        "spark = SparkSession.builder.appName(\"FloodPrediction\").getOrCreate()\n",
        "df = spark.read.csv('/content/after feature enggienering.csv', header=True, inferSchema=True)"
      ],
      "metadata": {
        "id": "4AwmhPaJUT30"
      },
      "execution_count": null,
      "outputs": []
    },
    {
      "cell_type": "code",
      "source": [
        "data =df.toPandas()"
      ],
      "metadata": {
        "id": "4k9rNxKpssj_"
      },
      "execution_count": null,
      "outputs": []
    },
    {
      "cell_type": "code",
      "source": [
        "data.shape"
      ],
      "metadata": {
        "id": "WLcRcO6ns_rY"
      },
      "execution_count": null,
      "outputs": []
    },
    {
      "cell_type": "code",
      "source": [
        "df.show(5)\n",
        "# df.toPandas()"
      ],
      "metadata": {
        "id": "9cCz3vZ34E3a"
      },
      "execution_count": null,
      "outputs": []
    },
    {
      "cell_type": "code",
      "source": [
        "data.columns"
      ],
      "metadata": {
        "id": "I1m6-KFTt9fQ"
      },
      "execution_count": null,
      "outputs": []
    },
    {
      "cell_type": "code",
      "source": [
        "df.groupBy(\"brand\").agg({'price': 'mode'}).show()\n"
      ],
      "metadata": {
        "id": "4yJabFUwu8zJ"
      },
      "execution_count": null,
      "outputs": []
    },
    {
      "cell_type": "code",
      "source": [
        "df.groupBy(\"brand\").agg({'Ram': 'mean'}).orderBy('avg(Ram)', ascending=False).show()\n"
      ],
      "metadata": {
        "id": "dATzKq6EwFrj"
      },
      "execution_count": null,
      "outputs": []
    },
    {
      "cell_type": "code",
      "source": [
        "df.groupBy(\"cpu_core\").count().orderBy('count', ascending=False).show()\n"
      ],
      "metadata": {
        "id": "YTr7Rsz6wFuw"
      },
      "execution_count": null,
      "outputs": []
    },
    {
      "cell_type": "code",
      "source": [
        "df.groupBy(\"Ram_type\").count().orderBy('count', ascending=False).show()\n"
      ],
      "metadata": {
        "id": "fJ1z6C7-wFyC"
      },
      "execution_count": null,
      "outputs": []
    },
    {
      "cell_type": "code",
      "source": [
        "df.groupBy(\"brand\").agg({'display_size': 'max'}).orderBy('max(display_size)', ascending=False).show()\n"
      ],
      "metadata": {
        "id": "L9YryDXAwF0y"
      },
      "execution_count": null,
      "outputs": []
    },
    {
      "cell_type": "code",
      "source": [
        "df.groupBy(\"OS\").count().orderBy('count', ascending=False).show()\n"
      ],
      "metadata": {
        "id": "9Tw1laP8wF3g"
      },
      "execution_count": null,
      "outputs": []
    },
    {
      "cell_type": "code",
      "source": [
        "df.groupBy(\"brand\").agg({'warranty': 'avg'}).orderBy('avg(warranty)', ascending=False).show()\n"
      ],
      "metadata": {
        "id": "vvT9zj68wF6l"
      },
      "execution_count": null,
      "outputs": []
    },
    {
      "cell_type": "code",
      "source": [
        "df.groupBy(\"processor_generation\").count().orderBy('count', ascending=False).show()\n"
      ],
      "metadata": {
        "id": "7kTJgicWwF9U"
      },
      "execution_count": null,
      "outputs": []
    },
    {
      "cell_type": "code",
      "source": [
        "df.groupBy(\"GPU_category\").count().orderBy('count', ascending=False).show()\n"
      ],
      "metadata": {
        "id": "3UfPlvSIwGA4"
      },
      "execution_count": null,
      "outputs": []
    },
    {
      "cell_type": "code",
      "source": [
        "df.printSchema()"
      ],
      "metadata": {
        "id": "3FFsehGp7rs-"
      },
      "execution_count": null,
      "outputs": []
    },
    {
      "cell_type": "code",
      "source": [
        "type(df)"
      ],
      "metadata": {
        "id": "8w1aAyjc8avB"
      },
      "execution_count": null,
      "outputs": []
    },
    {
      "cell_type": "code",
      "source": [
        "df.dtypes"
      ],
      "metadata": {
        "id": "nGeuovSJ9Ya5"
      },
      "execution_count": null,
      "outputs": []
    },
    {
      "cell_type": "code",
      "source": [
        "df.describe().show()"
      ],
      "metadata": {
        "id": "HWZg5B9e9-vA"
      },
      "execution_count": null,
      "outputs": []
    },
    {
      "cell_type": "code",
      "source": [
        "df.filter(df[\"price\"] < 50000).count()\n"
      ],
      "metadata": {
        "id": "qqY0L7XU9uFR"
      },
      "execution_count": null,
      "outputs": []
    },
    {
      "cell_type": "code",
      "source": [
        "df.createOrReplaceTempView(\"DATA\")"
      ],
      "metadata": {
        "id": "ElYPTsPH46jw"
      },
      "execution_count": null,
      "outputs": []
    },
    {
      "cell_type": "code",
      "source": [
        "result_df = spark.sql(\"SELECT * FROM DATA\" )\n",
        "result_df.show()"
      ],
      "metadata": {
        "id": "tTpYh_9S4E04"
      },
      "execution_count": null,
      "outputs": []
    },
    {
      "cell_type": "code",
      "source": [
        "input = \"SELECT * FROM DATA WHERE price > 200000\"\n",
        "spark.sql(input ).show()"
      ],
      "metadata": {
        "id": "CSfZF4VM4EGo"
      },
      "execution_count": null,
      "outputs": []
    },
    {
      "cell_type": "code",
      "source": [
        "from pyspark.sql.functions import col\n",
        "\n",
        "# Drop rows with any missing values\n",
        "df_cleaned = df.dropna()\n",
        "\n",
        "\n",
        "# Show the cleaned DataFrame\n",
        "df_cleaned.show(5)"
      ],
      "metadata": {
        "id": "_adO7233Yk_3"
      },
      "execution_count": null,
      "outputs": []
    },
    {
      "cell_type": "code",
      "source": [
        "from pyspark.sql import SparkSession\n",
        "from pyspark.sql.functions import count, countDistinct, mean, stddev, min, max, col\n",
        "\n",
        "# Print the schema\n",
        "df.printSchema()\n",
        "\n",
        "# Count the total number of records\n",
        "total_records = df.count()\n",
        "print(f\"Total records: {total_records}\")\n"
      ],
      "metadata": {
        "id": "Hq1LtLpHvkqS"
      },
      "execution_count": null,
      "outputs": []
    },
    {
      "cell_type": "code",
      "source": [
        "# Count distinct brands\n",
        "distinct_brands = df.select(\"brand\").distinct().count()\n",
        "print(f\"Number of distinct brands: {distinct_brands}\")"
      ],
      "metadata": {
        "id": "v7qeixHexlBE"
      },
      "execution_count": null,
      "outputs": []
    },
    {
      "cell_type": "code",
      "source": [
        "# Correlation between price and CPU cores\n",
        "price_cpu_corr = df.stat.corr(\"price\", \"cpu_core\")\n",
        "print(f\"Correlation between price and CPU cores: {price_cpu_corr}\")"
      ],
      "metadata": {
        "id": "m7Wr8s6yxmdk"
      },
      "execution_count": null,
      "outputs": []
    },
    {
      "cell_type": "code",
      "source": [
        "# OS distribution\n",
        "os_dist = df.groupBy(\"OS\").agg(count(\"*\").alias(\"count\")).orderBy(\"count\", ascending=False).show()"
      ],
      "metadata": {
        "id": "WG9O4LxDxmY8"
      },
      "execution_count": null,
      "outputs": []
    },
    {
      "cell_type": "code",
      "source": [
        "# Minimum and maximum display sizes\n",
        "min_display_size = df.select(min(\"display_size\")).first()[0]\n",
        "max_display_size = df.select(max(\"display_size\")).first()[0]\n",
        "print(f\"Minimum display size: {min_display_size}\")\n",
        "print(f\"Maximum display size: {max_display_size}\")"
      ],
      "metadata": {
        "id": "Db0CTjuWxmWO"
      },
      "execution_count": null,
      "outputs": []
    },
    {
      "cell_type": "code",
      "source": [
        "# Distinct ROM types\n",
        "distinct_rom_types = df.select(\"ROM_type\").distinct().count()\n",
        "print(f\"Number of distinct ROM types: {distinct_rom_types}\")"
      ],
      "metadata": {
        "id": "V-0wBk0PxmGk"
      },
      "execution_count": null,
      "outputs": []
    },
    {
      "cell_type": "code",
      "source": [
        "# Average CPU core count\n",
        "avg_cpu_cores = df.select(mean(\"cpu_core\")).first()[0]\n",
        "print(f\"Average CPU cores: {avg_cpu_cores}\")"
      ],
      "metadata": {
        "id": "YeLaTAluxmCP"
      },
      "execution_count": null,
      "outputs": []
    },
    {
      "cell_type": "code",
      "source": [
        "# Distribution of RAM capacities\n",
        "ram_dist = df.groupBy(\"Ram\").agg(count(\"*\").alias(\"count\")).orderBy(\"count\", ascending=False).show()"
      ],
      "metadata": {
        "id": "N46wEhmExl_R"
      },
      "execution_count": null,
      "outputs": []
    },
    {
      "cell_type": "code",
      "source": [
        "# Descriptive statistics for price\n",
        "price_stats = df.select(\"price\").describe().show()"
      ],
      "metadata": {
        "id": "rbezSHUIxl8g"
      },
      "execution_count": null,
      "outputs": []
    },
    {
      "cell_type": "code",
      "source": [
        "\n",
        "# Stop the SparkSession\n",
        "spark.stop()"
      ],
      "metadata": {
        "id": "ZbORqlRSvlOP"
      },
      "execution_count": null,
      "outputs": []
    },
    {
      "cell_type": "code",
      "source": [],
      "metadata": {
        "id": "5dVAkWTaycpV"
      },
      "execution_count": null,
      "outputs": []
    }
  ]
}